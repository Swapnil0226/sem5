{
 "cells": [
  {
   "cell_type": "code",
   "execution_count": 1,
   "metadata": {},
   "outputs": [
    {
     "name": "stdout",
     "output_type": "stream",
     "text": [
      "Enter Data:1 2 5 9 12 19 22 26 30 37 39 45 58 63 77 89 96\n",
      "Start X:0\n",
      "End X: 100\n",
      "Start Y:1\n",
      "End Y: 5\n",
      "Enter distance between X scale: 10\n",
      "Enter distance between Y scale: 1\n"
     ]
    },
    {
     "data": {
      "image/png": "[encoded data removed]",
      "text/plain": [
       "<Figure size 432x288 with 1 Axes>"
      ]
     },
     "metadata": {
      "needs_background": "light"
     },
     "output_type": "display_data"
    }
   ],
   "source": [
    "import matplotlib.pyplot as plt\n",
    "values = list(map(int,input(\"Enter Data:\").split()))\n",
    "Xrange = [ i for i in range(int(input('Start X:')),int(input('End X: '))+1)]\n",
    "Yrange = [ i for i in range(int(input('Start Y:')),int(input('End Y: '))+1)]\n",
    "Xleave = int(input('Enter distance between X scale: '))\n",
    "Yleave = int(input('Enter distance between Y scale: '))\n",
    "plt.hist(values)\n",
    "plt.xticks(Xrange[::Xleave])\n",
    "plt.yticks(Yrange[::Yleave])\n",
    "plt.title(\"Experiment 5\")\n",
    "plt.xlabel(\"Value Groups\")\n",
    "plt.ylabel(\"Frequency\")\n",
    "#plt.savefig(\"hist.png\")\n",
    "plt.show()"
   ]
  }
 ],
 "metadata": {
  "kernelspec": {
   "display_name": "Python 3 (ipykernel)",
   "language": "python",
   "name": "python3"
  },
  "language_info": {
   "codemirror_mode": {
    "name": "ipython",
    "version": 3
   },
   "file_extension": ".py",
   "mimetype": "text/x-python",
   "name": "python",
   "nbconvert_exporter": "python",
   "pygments_lexer": "ipython3",
   "version": "3.9.12"
  },
  "vscode": {
   "interpreter": {
    "hash": "216c0afd2cf2ec576bd11d7e5d2641435c4bd5590ad84beced58f344f37c1f93"
   }
  }
 },
 "nbformat": 4,
 "nbformat_minor": 2
}
